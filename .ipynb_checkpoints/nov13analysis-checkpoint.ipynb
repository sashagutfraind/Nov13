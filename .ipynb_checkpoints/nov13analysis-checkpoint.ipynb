{
 "cells": [
  {
   "cell_type": "markdown",
   "metadata": {},
   "source": [
    "# Analysis of the network in the Nov 13, 2015 terror attacks in Paris\n",
    "\n",
    "### Author: Alexander Gutfraind\n",
    "agutfraind.research@gmail.com\n",
    "\n",
    "University of Illinois at Chicago"
   ]
  },
  {
   "cell_type": "markdown",
   "metadata": {},
   "source": [
    "# Introduction\n",
    "The following is an analysis of the network involved in the terror plots, as drawn from open media sources.  As more data would become available, this information will be updated.\n",
    "The focus of the analysis is \n",
    "- provide a succint summary of the attacks\n",
    "- provide a dataset for further research\n",
    "- understand how different types of relationships may have helped organizing the plots\n",
    "- understand the structure of the network, representing one of the largest plots by The Islamic State group\n",
    "\n",
    "There is still considerable uncertainty about the network.  In part, some of the individuals are still at large;  many have been arrested but little of their identities was revealed in the media."
   ]
  },
  {
   "cell_type": "markdown",
   "metadata": {},
   "source": [
    "# Methods\n",
    "Data from media sources was organized in a graphical event database (Neo4j version: 2.2.5).  This database is a multimodal network and contains:\n",
    "1. the individuals involved in the attack\n",
    "2. any persons connected to this plot as possible accessories\n",
    "3. locations such as countries and staging sites\n",
    "4. the individual attack sites\n",
    "\n",
    "From the database, we constructed the social network representing the connections between Daesh operatives.  There is actually a considerable debate as to the definition of terrorism, and the process of drawing terrorist networks.  In this case, we followed a strict computational procedure (see source code below for the calculation steps).  Briefly, the network has been structured by starting from seed persons, defined as either the attackers or wanted individuals (the attackers are the people who used weapons on the November 13 attacks.)  Additional individuals were added to the network by going outward from the these seeds.  It only includes individuals who are suspected of terrorist activities or may have known about them through previous links to the seed attackers.  The links include familiar, friendship or shared residence.   "
   ]
  },
  {
   "cell_type": "code",
   "execution_count": 7,
   "metadata": {
    "collapsed": false
   },
   "outputs": [
    {
     "name": "stdout",
     "output_type": "stream",
     "text": [
      "< Graph > \n",
      "$version\n",
      "[1] \"2.2.5\"\n",
      "\n"
     ]
    }
   ],
   "source": [
    "library(RNeo4j)\n",
    "nov13 = startGraph(\"http://localhost:7474/db/data/\", username=\"neo4j\", password=\"1\")  \n",
    "print(nov13)"
   ]
  },
  {
   "cell_type": "markdown",
   "metadata": {},
   "source": [
    "# Results\n",
    "### Plot of the overall network"
   ]
  },
  {
   "cell_type": "code",
   "execution_count": null,
   "metadata": {
    "collapsed": true
   },
   "outputs": [],
   "source": []
  },
  {
   "cell_type": "markdown",
   "metadata": {},
   "source": [
    "### Nationalities of the attackers"
   ]
  },
  {
   "cell_type": "code",
   "execution_count": 4,
   "metadata": {
    "collapsed": false
   },
   "outputs": [
    {
     "ename": "ERROR",
     "evalue": "Error in parse(text = x, srcfile = src): <text>:1:6: unexpected symbol\n1: Ages of\n         ^\n",
     "output_type": "error",
     "traceback": [
      "Error in parse(text = x, srcfile = src): <text>:1:6: unexpected symbol\n1: Ages of\n         ^\n"
     ]
    }
   ],
   "source": []
  },
  {
   "cell_type": "markdown",
   "metadata": {},
   "source": [
    "### Ages of the attackers"
   ]
  },
  {
   "cell_type": "code",
   "execution_count": null,
   "metadata": {
    "collapsed": true
   },
   "outputs": [],
   "source": []
  },
  {
   "cell_type": "markdown",
   "metadata": {},
   "source": [
    "### Gender of the attackers\n",
    "As shown below, a number of the attackers are females."
   ]
  },
  {
   "cell_type": "code",
   "execution_count": null,
   "metadata": {
    "collapsed": true
   },
   "outputs": [],
   "source": []
  },
  {
   "cell_type": "markdown",
   "metadata": {},
   "source": [
    "### Degree distribution in the terror network"
   ]
  },
  {
   "cell_type": "code",
   "execution_count": null,
   "metadata": {
    "collapsed": true
   },
   "outputs": [],
   "source": []
  },
  {
   "cell_type": "markdown",
   "metadata": {},
   "source": [
    "### Plot of the overall network"
   ]
  },
  {
   "cell_type": "code",
   "execution_count": null,
   "metadata": {
    "collapsed": true
   },
   "outputs": [],
   "source": []
  },
  {
   "cell_type": "markdown",
   "metadata": {},
   "source": [
    "# Discussion and Conclusion\n",
    "We present the preliminary data about the attacks on Paris.  All of the individuals named in this report should be presumed innocent, unless proven otherwise.  \n",
    "\n",
    "There are many limitations, due to the recency of the events.  The use of open source information means that some ties between the individuals might not be revealed, but the reported ties are generally likely to be true to reality.\n",
    "\n",
    "Media reports (cited therein) should be used as sources of truth regarding specific nodes or edges.  This report will be updated as more information becomes available.  Latest update: Nov. 18, 2015"
   ]
  },
  {
   "cell_type": "markdown",
   "metadata": {},
   "source": [
    "# References\n",
    "For the underyling network data, see https://github.com/sashagutfraind/Nov13/blob/master/create_network.R "
   ]
  }
 ],
 "metadata": {
  "kernelspec": {
   "display_name": "R",
   "language": "R",
   "name": "ir"
  },
  "language_info": {
   "codemirror_mode": "r",
   "file_extension": ".r",
   "mimetype": "text/x-r-source",
   "name": "R",
   "pygments_lexer": "r",
   "version": "3.1.3"
  }
 },
 "nbformat": 4,
 "nbformat_minor": 0
}

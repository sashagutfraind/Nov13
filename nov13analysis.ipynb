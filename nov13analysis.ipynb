{
 "cells": [
  {
   "cell_type": "markdown",
   "metadata": {},
   "source": [
    "# Analysis of the network in the Nov 13, 2015 terror attacks in Paris\n",
    "\n",
    "### Author: Alexander Gutfraind\n",
    "agutfraind.research@gmail.com"
   ]
  },
  {
   "cell_type": "markdown",
   "metadata": {},
   "source": [
    "# Introduction\n",
    "The following is an analysis of the network involved in the terror plot.  As more data would become available, this information will be updated.\n",
    "The focus of the analysis is \n",
    "- understand the structure of the network, representing one of the largest plots by The Islamic State group\n",
    "- provide a reliable dataset for further research"
   ]
  },
  {
   "cell_type": "markdown",
   "metadata": {},
   "source": [
    "# Methods\n",
    "Data from media sources was stored in a graphical database (Neo4j version: 2.2.5).  The database represented:\n",
    "- the individuals involved in the attack\n",
    "- connected persons to these individuals \n",
    "- locations such as countries, staging sites and training\n",
    "- the individual attack sites\n",
    "\n",
    "For the network analysis, we project down the dataset by using common locations."
   ]
  }
 ],
 "metadata": {
  "kernelspec": {
   "display_name": "R",
   "language": "R",
   "name": "ir"
  },
  "language_info": {
   "codemirror_mode": "r",
   "file_extension": ".r",
   "mimetype": "text/x-r-source",
   "name": "R",
   "pygments_lexer": "r",
   "version": "3.1.3"
  }
 },
 "nbformat": 4,
 "nbformat_minor": 0
}
